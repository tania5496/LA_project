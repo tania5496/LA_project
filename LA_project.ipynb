{
  "nbformat": 4,
  "nbformat_minor": 0,
  "metadata": {
    "colab": {
      "provenance": [],
      "collapsed_sections": [
        "i4iEK5lhvwWE",
        "ESR7vqrdjw3_",
        "JgA3VDLIvSQC",
        "DVlVFFSmwLCM",
        "Abi3W3Q6zGPO",
        "Sm6ZOgu40Pyp",
        "DM_vgWoa1cXb",
        "0rc4mPbk1mNh",
        "tktcZL4a1xEC",
        "CpN4j6Hm2Aci"
      ]
    },
    "kernelspec": {
      "name": "python3",
      "display_name": "Python 3"
    },
    "language_info": {
      "name": "python"
    }
  },
  "cells": [
    {
      "cell_type": "markdown",
      "source": [
        "AES is a symmetric encryption algorithm that is widely used for securing sensitive data.\n",
        "\n",
        "AES operates on fixed-size blocks of data and supports three key sizes: 128 bits, 192 bits, and 256 bits. The algorithm consists of a series of rounds where the input plaintext is transformed using a combination of substitution, permutation, and mixing operations. These operations are applied based on the encryption key to produce the ciphertext."
      ],
      "metadata": {
        "id": "9aIpXyafhBjn"
      }
    },
    {
      "cell_type": "markdown",
      "source": [
        "#Implementation"
      ],
      "metadata": {
        "id": "i4iEK5lhvwWE"
      }
    },
    {
      "cell_type": "markdown",
      "source": [
        "There are a few modes of operations for AES, we will consider ECB mode(Electronic Codebook)"
      ],
      "metadata": {
        "id": "YATTJHlwh32L"
      }
    },
    {
      "cell_type": "markdown",
      "source": [
        "##Division into blocks of 16 bytes"
      ],
      "metadata": {
        "id": "ESR7vqrdjw3_"
      }
    },
    {
      "cell_type": "markdown",
      "source": [
        "In AES-128 ECB mode, the plaintext is divided into blocks of 128 bits (16 bytes)"
      ],
      "metadata": {
        "id": "ZUb2zr_hhjFm"
      }
    },
    {
      "cell_type": "code",
      "source": [
        "def break_into_blocks(data):\n",
        "    result = []\n",
        "    for i in range(len(data)//16):\n",
        "        interval_16 = data[16*i: 16*(i+1)]\n",
        "        block = []\n",
        "        for k in range(4):\n",
        "            row = []\n",
        "            for j in range(4):\n",
        "                row.append(interval_16[k + 4*j])\n",
        "            block.append(row)\n",
        "        result.append(block)\n",
        "    return result"
      ],
      "metadata": {
        "id": "f5rxHjMMjtZQ"
      },
      "execution_count": 85,
      "outputs": []
    },
    {
      "cell_type": "markdown",
      "source": [
        "##S-Box1"
      ],
      "metadata": {
        "id": "JgA3VDLIvSQC"
      }
    },
    {
      "cell_type": "markdown",
      "source": [
        "In AES S-BOX is a fixed lookup table that performs byte substitution operations.\n",
        "\n",
        "The S-Box is a 16x16 matrix that maps each 8-bit input value to a corresponding 8-bit output value. It is constructed in such a way that each possible input byte has a unique output byte. The S-Box is designed to provide confusion and non-linearity in the AES algorithm, enhancing its resistance against cryptographic attacks."
      ],
      "metadata": {
        "id": "XO-HO5y5wuZE"
      }
    },
    {
      "cell_type": "code",
      "source": [
        "sbox = [\n",
        "  [int('63', 16), int('7c', 16), int('77', 16), int('7b', 16), int('f2', 16), int('6b', 16), int('6f', 16), int('c5', 16), int(\n",
        "      '30', 16), int('01', 16), int('67', 16), int('2b', 16), int('fe', 16), int('d7', 16), int('ab', 16), int('76', 16)],\n",
        "  [int('ca', 16), int('82', 16), int('c9', 16), int('7d', 16), int('fa', 16), int('59', 16), int('47', 16), int('f0', 16), int(\n",
        "      'ad', 16), int('d4', 16), int('a2', 16), int('af', 16), int('9c', 16), int('a4', 16), int('72', 16), int('c0', 16)],\n",
        "  [int('b7', 16), int('fd', 16), int('93', 16), int('26', 16), int('36', 16), int('3f', 16), int('f7', 16), int('cc', 16), int(\n",
        "      '34', 16), int('a5', 16), int('e5', 16), int('f1', 16), int('71', 16), int('d8', 16), int('31', 16), int('15', 16)],\n",
        "  [int('04', 16), int('c7', 16), int('23', 16), int('c3', 16), int('18', 16), int('96', 16), int('05', 16), int('9a', 16), int(\n",
        "      '07', 16), int('12', 16), int('80', 16), int('e2', 16), int('eb', 16), int('27', 16), int('b2', 16), int('75', 16)],\n",
        "  [int('09', 16), int('83', 16), int('2c', 16), int('1a', 16), int('1b', 16), int('6e', 16), int('5a', 16), int('a0', 16), int(\n",
        "      '52', 16), int('3b', 16), int('d6', 16), int('b3', 16), int('29', 16), int('e3', 16), int('2f', 16), int('84', 16)],\n",
        "  [int('53', 16), int('d1', 16), int('00', 16), int('ed', 16), int('20', 16), int('fc', 16), int('b1', 16), int('5b', 16), int(\n",
        "      '6a', 16), int('cb', 16), int('be', 16), int('39', 16), int('4a', 16), int('4c', 16), int('58', 16), int('cf', 16)],\n",
        "  [int('d0', 16), int('ef', 16), int('aa', 16), int('fb', 16), int('43', 16), int('4d', 16), int('33', 16), int('85', 16), int(\n",
        "      '45', 16), int('f9', 16), int('02', 16), int('7f', 16), int('50', 16), int('3c', 16), int('9f', 16), int('a8', 16)],\n",
        "  [int('51', 16), int('a3', 16), int('40', 16), int('8f', 16), int('92', 16), int('9d', 16), int('38', 16), int('f5', 16), int(\n",
        "      'bc', 16), int('b6', 16), int('da', 16), int('21', 16), int('10', 16), int('ff', 16), int('f3', 16), int('d2', 16)],\n",
        "  [int('cd', 16), int('0c', 16), int('13', 16), int('ec', 16), int('5f', 16), int('97', 16), int('44', 16), int('17', 16), int(\n",
        "      'c4', 16), int('a7', 16), int('7e', 16), int('3d', 16), int('64', 16), int('5d', 16), int('19', 16), int('73', 16)],\n",
        "  [int('60', 16), int('81', 16), int('4f', 16), int('dc', 16), int('22', 16), int('2a', 16), int('90', 16), int('88', 16), int(\n",
        "      '46', 16), int('ee', 16), int('b8', 16), int('14', 16), int('de', 16), int('5e', 16), int('0b', 16), int('db', 16)],\n",
        "  [int('e0', 16), int('32', 16), int('3a', 16), int('0a', 16), int('49', 16), int('06', 16), int('24', 16), int('5c', 16), int(\n",
        "      'c2', 16), int('d3', 16), int('ac', 16), int('62', 16), int('91', 16), int('95', 16), int('e4', 16), int('79', 16)],\n",
        "  [int('e7', 16), int('c8', 16), int('37', 16), int('6d', 16), int('8d', 16), int('d5', 16), int('4e', 16), int('a9', 16), int(\n",
        "      '6c', 16), int('56', 16), int('f4', 16), int('ea', 16), int('65', 16), int('7a', 16), int('ae', 16), int('08', 16)],\n",
        "  [int('ba', 16), int('78', 16), int('25', 16), int('2e', 16), int('1c', 16), int('a6', 16), int('b4', 16), int('c6', 16), int(\n",
        "      'e8', 16), int('dd', 16), int('74', 16), int('1f', 16), int('4b', 16), int('bd', 16), int('8b', 16), int('8a', 16)],\n",
        "  [int('70', 16), int('3e', 16), int('b5', 16), int('66', 16), int('48', 16), int('03', 16), int('f6', 16), int('0e', 16), int(\n",
        "      '61', 16), int('35', 16), int('57', 16), int('b9', 16), int('86', 16), int('c1', 16), int('1d', 16), int('9e', 16)],\n",
        "  [int('e1', 16), int('f8', 16), int('98', 16), int('11', 16), int('69', 16), int('d9', 16), int('8e', 16), int('94', 16), int(\n",
        "      '9b', 16), int('1e', 16), int('87', 16), int('e9', 16), int('ce', 16), int('55', 16), int('28', 16), int('df', 16)],\n",
        "  [int('8c', 16), int('a1', 16), int('89', 16), int('0d', 16), int('bf', 16), int('e6', 16), int('42', 16), int('68', 16), int(\n",
        "      '41', 16), int('99', 16), int('2d', 16), int('0f', 16), int('b0', 16), int('54', 16), int('bb', 16), int('16', 16)]\n",
        "]"
      ],
      "metadata": {
        "id": "t8mUbl06vhb6"
      },
      "execution_count": 86,
      "outputs": []
    },
    {
      "cell_type": "code",
      "source": [
        "reverse_sbox = [\n",
        "    [int('52', 16), int('09', 16), int('6a', 16), int('d5', 16), int('30', 16), int('36', 16), int('a5', 16), int('38', 16), int(\n",
        "        'bf', 16), int('40', 16), int('a3', 16), int('9e', 16), int('81', 16), int('f3', 16), int('d7', 16), int('fb', 16)],\n",
        "    [int('7c', 16), int('e3', 16), int('39', 16), int('82', 16), int('9b', 16), int('2f', 16), int('ff', 16), int('87', 16), int(\n",
        "        '34', 16), int('8e', 16), int('43', 16), int('44', 16), int('c4', 16), int('de', 16), int('e9', 16), int('cb', 16)],\n",
        "    [int('54', 16), int('7b', 16), int('94', 16), int('32', 16), int('a6', 16), int('c2', 16), int('23', 16), int('3d', 16), int(\n",
        "        'ee', 16), int('4c', 16), int('95', 16), int('0b', 16), int('42', 16), int('fa', 16), int('c3', 16), int('4e', 16)],\n",
        "    [int('08', 16), int('2e', 16), int('a1', 16), int('66', 16), int('28', 16), int('d9', 16), int('24', 16), int('b2', 16), int(\n",
        "        '76', 16), int('5b', 16), int('a2', 16), int('49', 16), int('6d', 16), int('8b', 16), int('d1', 16), int('25', 16)],\n",
        "    [int('72', 16), int('f8', 16), int('f6', 16), int('64', 16), int('86', 16), int('68', 16), int('98', 16), int('16', 16), int(\n",
        "        'd4', 16), int('a4', 16), int('5c', 16), int('cc', 16), int('5d', 16), int('65', 16), int('b6', 16), int('92', 16)],\n",
        "    [int('6c', 16), int('70', 16), int('48', 16), int('50', 16), int('fd', 16), int('ed', 16), int('b9', 16), int('da', 16), int(\n",
        "        '5e', 16), int('15', 16), int('46', 16), int('57', 16), int('a7', 16), int('8d', 16), int('9d', 16), int('84', 16)],\n",
        "    [int('90', 16), int('d8', 16), int('ab', 16), int('00', 16), int('8c', 16), int('bc', 16), int('d3', 16), int('0a', 16), int(\n",
        "        'f7', 16), int('e4', 16), int('58', 16), int('05', 16), int('b8', 16), int('b3', 16), int('45', 16), int('06', 16)],\n",
        "    [int('d0', 16), int('2c', 16), int('1e', 16), int('8f', 16), int('ca', 16), int('3f', 16), int('0f', 16), int('02', 16), int(\n",
        "        'c1', 16), int('af', 16), int('bd', 16), int('03', 16), int('01', 16), int('13', 16), int('8a', 16), int('6b', 16)],\n",
        "    [int('3a', 16), int('91', 16), int('11', 16), int('41', 16), int('4f', 16), int('67', 16), int('dc', 16), int('ea', 16), int(\n",
        "        '97', 16), int('f2', 16), int('cf', 16), int('ce', 16), int('f0', 16), int('b4', 16), int('e6', 16), int('73', 16)],\n",
        "    [int('96', 16), int('ac', 16), int('74', 16), int('22', 16), int('e7', 16), int('ad', 16), int('35', 16), int('85', 16), int(\n",
        "        'e2', 16), int('f9', 16), int('37', 16), int('e8', 16), int('1c', 16), int('75', 16), int('df', 16), int('6e', 16)],\n",
        "    [int('47', 16), int('f1', 16), int('1a', 16), int('71', 16), int('1d', 16), int('29', 16), int('c5', 16), int('89', 16), int(\n",
        "        '6f', 16), int('b7', 16), int('62', 16), int('0e', 16), int('aa', 16), int('18', 16), int('be', 16), int('1b', 16)],\n",
        "    [int('fc', 16), int('56', 16), int('3e', 16), int('4b', 16), int('c6', 16), int('d2', 16), int('79', 16), int('20', 16), int(\n",
        "        '9a', 16), int('db', 16), int('c0', 16), int('fe', 16), int('78', 16), int('cd', 16), int('5a', 16), int('f4', 16)],\n",
        "    [int('1f', 16), int('dd', 16), int('a8', 16), int('33', 16), int('88', 16), int('07', 16), int('c7', 16), int('31', 16), int(\n",
        "        'b1', 16), int('12', 16), int('10', 16), int('59', 16), int('27', 16), int('80', 16), int('ec', 16), int('5f', 16)],\n",
        "    [int('60', 16), int('51', 16), int('7f', 16), int('a9', 16), int('19', 16), int('b5', 16), int('4a', 16), int('0d', 16), int(\n",
        "        '2d', 16), int('e5', 16), int('7a', 16), int('9f', 16), int('93', 16), int('c9', 16), int('9c', 16), int('ef', 16)],\n",
        "    [int('a0', 16), int('e0', 16), int('3b', 16), int('4d', 16), int('ae', 16), int('2a', 16), int('f5', 16), int('b0', 16), int(\n",
        "        'c8', 16), int('eb', 16), int('bb', 16), int('3c', 16), int('83', 16), int('53', 16), int('99', 16), int('61', 16)],\n",
        "    [int('17', 16), int('2b', 16), int('04', 16), int('7e', 16), int('ba', 16), int('77', 16), int('d6', 16), int('26', 16), int(\n",
        "        'e1', 16), int('69', 16), int('14', 16), int('63', 16), int('55', 16), int('21', 16), int('0c', 16), int('7d', 16)]\n",
        "]"
      ],
      "metadata": {
        "id": "sbhbYXmvxPdA"
      },
      "execution_count": 87,
      "outputs": []
    },
    {
      "cell_type": "markdown",
      "source": [
        "The functions below search in the S-Box/reverse S-Box and return the coordinates"
      ],
      "metadata": {
        "id": "qXznQ4GkFH0n"
      }
    },
    {
      "cell_type": "code",
      "source": [
        "def lookup(byte):\n",
        "    x = byte >> 4\n",
        "    y = byte & 15\n",
        "    return sbox[x][y]"
      ],
      "metadata": {
        "id": "mH54c5uBxEig"
      },
      "execution_count": 88,
      "outputs": []
    },
    {
      "cell_type": "code",
      "source": [
        "def reverse_lookup(byte):\n",
        "    x = byte >> 4\n",
        "    y = byte & 15\n",
        "    return reverse_sbox[x][y]"
      ],
      "metadata": {
        "id": "KldWPCKWxG6q"
      },
      "execution_count": 89,
      "outputs": []
    },
    {
      "cell_type": "markdown",
      "source": [
        "##Implementing the Key Expansion"
      ],
      "metadata": {
        "id": "DVlVFFSmwLCM"
      }
    },
    {
      "cell_type": "markdown",
      "source": [
        "The next step is implementing the Key Expansion.\n",
        "AES key expansion is the process of generating a set of round keys from the original encryption key for use in the AES algorithm. The key expansion algorithm takes as input the original key and produces a set of round keys, each of which is used in a specific round of the AES encryption or decryption process."
      ],
      "metadata": {
        "id": "Xmc0HjytGatG"
      }
    },
    {
      "cell_type": "code",
      "source": [
        "def expand_key(key, rounds):\n",
        "    rcon = [[1, 0, 0, 0]]\n",
        "    for i in range(1, rounds):\n",
        "        rcon.append([rcon[-1][0]*2, 0, 0, 0])\n",
        "        if rcon[-1][0] > 0x80:\n",
        "            rcon[-1][0] ^= 0x11b\n",
        "\n",
        "    key_matrix = break_into_blocks(key)[0]\n",
        "    for round in range(rounds):\n",
        "        last_col = []\n",
        "        for row in key_matrix:\n",
        "            last_col.append(row[-1])\n",
        "        last_col_rotate_step = rotate_row_left(last_col)\n",
        "\n",
        "        last_col_sbox_step = []\n",
        "        for i in last_col_rotate_step:\n",
        "          last_col_sbox_step.append(lookup(i))\n",
        "\n",
        "        last_col_rcon_step = []\n",
        "        for i in range(len(last_col_rotate_step)):\n",
        "          last_col_rcon_step.append(last_col_sbox_step[i] ^ rcon[round][i])\n",
        "        for r in range(4):\n",
        "            key_matrix[r] += bytes([last_col_rcon_step[r] ^ key_matrix[r][round*4]])\n",
        "\n",
        "        for i in range(len(key_matrix)):\n",
        "            for j in range(1, 4):\n",
        "                key_matrix[i] += bytes([key_matrix[i][round*4+j] ^ key_matrix[i][round*4+j+3]])\n",
        "    return key_matrix"
      ],
      "metadata": {
        "id": "lHFntB-awNma"
      },
      "execution_count": 91,
      "outputs": []
    },
    {
      "cell_type": "code",
      "source": [
        "def extract_key_for_round(expanded_key, round):\n",
        "    result = []\n",
        "    for row in expanded_key:\n",
        "        result.append(row[4*round: 4*(1+round)])\n",
        "    return result"
      ],
      "metadata": {
        "id": "AnjigNmSQas4"
      },
      "execution_count": 92,
      "outputs": []
    },
    {
      "cell_type": "markdown",
      "source": [
        "##Rotate Rows"
      ],
      "metadata": {
        "id": "Abi3W3Q6zGPO"
      }
    },
    {
      "cell_type": "markdown",
      "source": [
        "The next important step is rotating the n-th row of block n times"
      ],
      "metadata": {
        "id": "XLzenOlgKgtD"
      }
    },
    {
      "cell_type": "code",
      "source": [
        "def rotate_row_left(row, n=1):\n",
        "  rotated_row = row[n:] + row[:n]\n",
        "  return rotated_row"
      ],
      "metadata": {
        "id": "XQFyIvW7zOhQ"
      },
      "execution_count": 93,
      "outputs": []
    },
    {
      "cell_type": "markdown",
      "source": [
        "##Mix Columns"
      ],
      "metadata": {
        "id": "Sm6ZOgu40Pyp"
      }
    },
    {
      "cell_type": "markdown",
      "source": [
        "In AES the Mix Columns transformation is a step performed during the encryption process in each round. It operates on the columns of the state matrix to provide diffusion and further enhance the security of the cipher.\n",
        "\n",
        "The MixColumns step operates on a 4x4 matrix, where each column is treated as a polynomial over the finite field. It involves multiplying each column by a fixed matrix transformation and reducing the result modulo a predefined polynomial.\n",
        "\n",
        "The specific matrix used for this transformation is as follows:\\\n",
        "|2 3 1 1|\\\n",
        "|1 2 3 1|\\\n",
        "|1 1 2 3|\\\n",
        "|3 1 1 2|"
      ],
      "metadata": {
        "id": "0HY7VbLFQJvy"
      }
    },
    {
      "cell_type": "code",
      "source": [
        "def multiply_by_2(v):\n",
        "  s = v << 1\n",
        "  s &= 0xff\n",
        "  if (v & 128) != 0:\n",
        "    s = s ^ 0x1b\n",
        "  return s\n",
        "\n",
        "def multiply_by_3(v):\n",
        "  return multiply_by_2(v) ^ v"
      ],
      "metadata": {
        "id": "KZDo_YwKWCZI"
      },
      "execution_count": 94,
      "outputs": []
    },
    {
      "cell_type": "code",
      "source": [
        "def mix_column(column):\n",
        "  new_matrix = [\n",
        "      multiply_by_2(column[0]) ^ multiply_by_3(column[1]) ^ column[2] ^ column[3],\n",
        "      multiply_by_2(column[1]) ^ multiply_by_3(column[2]) ^ column[3] ^ column[0],\n",
        "      multiply_by_2(column[2]) ^ multiply_by_3(column[3]) ^ column[0] ^ column[1],\n",
        "      multiply_by_2(column[3]) ^ multiply_by_3(column[0]) ^ column[1] ^ column[2]]\n",
        "  return new_matrix\n",
        "  \n",
        "def mix_columns(matrix):\n",
        "  new_matrix = [[],[],[],[]]\n",
        "  for i in range(4):\n",
        "      col = []\n",
        "      for j in range(4):\n",
        "        col.append(matrix[j][i])\n",
        "      col = mix_column(col)\n",
        "      for k in range(4):\n",
        "          new_matrix[k].append(col[k])\n",
        "  return new_matrix"
      ],
      "metadata": {
        "id": "RdNSmGbU0SiZ"
      },
      "execution_count": 95,
      "outputs": []
    },
    {
      "cell_type": "markdown",
      "source": [
        "##Add Sub Key"
      ],
      "metadata": {
        "id": "DM_vgWoa1cXb"
      }
    },
    {
      "cell_type": "markdown",
      "source": [
        "This step of encryption involves bitwise XOR operation between the state matrix and a round key.\n",
        "Each byte of the round key is XORed with the corresponding byte in the state matrix."
      ],
      "metadata": {
        "id": "GlRhFgJH_yTq"
      }
    },
    {
      "cell_type": "code",
      "source": [
        "def add_sub_key(block_matrix, key_matrix):\n",
        "    new_matrix = []\n",
        "    for i in range(4):\n",
        "        row = []\n",
        "        for j in range(4):\n",
        "            row.append(block_matrix[i][j] ^ key_matrix[i][j])\n",
        "        new_matrix.append(row)\n",
        "    return new_matrix"
      ],
      "metadata": {
        "id": "omBng0QT1e6J"
      },
      "execution_count": 96,
      "outputs": []
    },
    {
      "cell_type": "markdown",
      "source": [
        "##Initial and Final Rounds"
      ],
      "metadata": {
        "id": "0rc4mPbk1mNh"
      }
    },
    {
      "cell_type": "markdown",
      "source": [
        "We now have all the functions we need to get the main functions that will encode and decode the message"
      ],
      "metadata": {
        "id": "mkc0X6_hTmfC"
      }
    },
    {
      "cell_type": "markdown",
      "source": [
        "##Encryption"
      ],
      "metadata": {
        "id": "tktcZL4a1xEC"
      }
    },
    {
      "cell_type": "markdown",
      "source": [
        "First, we supplement the data so that it can be divided into blocks. Then we divide the data into blocks of 16 bytes in the form of a 4*4 matrix\n",
        "\n",
        "Then we expand the key for the multiple rounds, apply the original key to the blocks before start the rounds, and add sub key. For now on we will work with integers.\n",
        "\n",
        "For AES-128 there are a total of 10 rounds. \n",
        "In each round we make byte substitution, shift rows, mix columns, and add sub key. However, in the last round, we don't mix the columns.\n",
        "\n",
        "The result of this function is an encoded data"
      ],
      "metadata": {
        "id": "HFtu3-fAU1jo"
      }
    },
    {
      "cell_type": "code",
      "source": [
        "def encryption(key, data):\n",
        "    pad = bytes(16 - len(data) % 16)\n",
        "    if len(pad) != 16:\n",
        "        data += pad\n",
        "    matrices = break_into_blocks(data)\n",
        "\n",
        "    expanded_key = expand_key(key, 11)\n",
        "\n",
        "    temp_matrices = []\n",
        "    round_key = extract_key_for_round(expanded_key, 0)\n",
        "\n",
        "    for matrix in matrices:\n",
        "        temp_matrices.append(add_sub_key(matrix, round_key))\n",
        "    matrices = temp_matrices\n",
        "\n",
        "# 1-9 round\n",
        "    for round in range(1, 10):\n",
        "        temp_matrices = []\n",
        "        for matrix in matrices:\n",
        "            sub_bytes_step = []\n",
        "            for row in matrix:\n",
        "                lst = []\n",
        "                for val in row:\n",
        "                    lst.append(lookup(val))\n",
        "                sub_bytes_step.append(lst)\n",
        "\n",
        "            shift_rows_step = []\n",
        "            for i in range(4):\n",
        "                shift_rows_step.append(rotate_row_left(sub_bytes_step[i], i))\n",
        "            \n",
        "            mix_column_step = mix_columns(shift_rows_step)\n",
        "            round_key = extract_key_for_round(expanded_key, round)\n",
        "            add_sub_key_step = add_sub_key(mix_column_step, round_key)\n",
        "            temp_matrices.append(add_sub_key_step)\n",
        "        matrices = temp_matrices\n",
        "\n",
        "# 10-th round\n",
        "    temp_matrices = []\n",
        "    round_key = extract_key_for_round(expanded_key, 10)\n",
        "    for matrix in matrices:\n",
        "        sub_bytes_step = []\n",
        "        for row in matrix:\n",
        "          lst = []\n",
        "          for value in row:\n",
        "            lst.append(lookup(value))\n",
        "          sub_bytes_step.append(lst)\n",
        "\n",
        "        shift_rows_step = []\n",
        "        for i in range(4):\n",
        "            shift_rows_step.append(rotate_row_left(sub_bytes_step[i], i))\n",
        "\n",
        "        add_sub_key_step = add_sub_key(shift_rows_step, round_key)\n",
        "        temp_matrices.append(add_sub_key_step)\n",
        "    matrices = temp_matrices\n",
        "\n",
        "    int_stream = []\n",
        "    for matrix in matrices:\n",
        "        for column in range(4):\n",
        "            for row in range(4):\n",
        "                int_stream.append(matrix[row][column])\n",
        "    return bytes(int_stream)"
      ],
      "metadata": {
        "id": "qjd076u82Daf"
      },
      "execution_count": 97,
      "outputs": []
    },
    {
      "cell_type": "markdown",
      "source": [
        "##Decryption"
      ],
      "metadata": {
        "id": "CpN4j6Hm2Aci"
      }
    },
    {
      "cell_type": "markdown",
      "source": [
        "First, we break data into blocks. Then we undo 10-th round. To undo add_sub_key operation, (since it is XOR operation) we need to perform it again. To undo rotate_row(row, 1), we should apply rotate_row(row, -1). After this, we make byte substitution.\n",
        "\n",
        "To undo 1-9 rounds we use same algorithm, except that we need to undo mix_columns operation. Doing the mix columns three times is equal to using the reverse matrix.\n",
        "\n",
        "The next step is to reverse the first add sub key and transform matrix to bytes.\n",
        "\n",
        "The result of this function is decoded data"
      ],
      "metadata": {
        "id": "zKY4q5uUD1ly"
      }
    },
    {
      "cell_type": "code",
      "source": [
        "def decryption(key, data):\n",
        "    matrices = break_into_blocks(data)\n",
        "    expanded_key = expand_key(key, 11)\n",
        "    temp_matrices = []\n",
        "    round_key = extract_key_for_round(expanded_key, 10)\n",
        "\n",
        "# undo 10-th round\n",
        "    temp_matrices = []\n",
        "\n",
        "    for matrix in matrices:\n",
        "        add_sub_key_step = add_sub_key(matrix, round_key)\n",
        "\n",
        "        shift_rows_step = []\n",
        "        for i in range(4):\n",
        "            shift_rows_step.append(rotate_row_left(add_sub_key_step[i], -1 * i))\n",
        "        sub_bytes_step = []\n",
        "        for row in shift_rows_step:\n",
        "            lst = []\n",
        "            for value in row:\n",
        "                lst.append(reverse_lookup(value))\n",
        "            sub_bytes_step.append(lst)\n",
        "        temp_matrices.append(sub_bytes_step)\n",
        "    matrices = temp_matrices\n",
        "# undo 1-9 round\n",
        "    for round in range(9, 0, -1):\n",
        "        temp_matrices = []\n",
        "        for matrix in matrices:\n",
        "            round_key = extract_key_for_round(expanded_key, round)\n",
        "            add_sub_key_step = add_sub_key(matrix, round_key)\n",
        "# undo mix_columns\n",
        "            mix_column_step = mix_columns(add_sub_key_step)\n",
        "            mix_column_step = mix_columns(mix_column_step)\n",
        "            mix_column_step = mix_columns(mix_column_step)\n",
        "            shift_rows_step = []\n",
        "            for i in range(4):\n",
        "                shift_rows_step.append(rotate_row_left(mix_column_step[i], -1 * i))\n",
        "            sub_bytes_step = []\n",
        "            for row in shift_rows_step:\n",
        "                lst = []\n",
        "                for value in row:\n",
        "                    lst.append(reverse_lookup(value))\n",
        "                sub_bytes_step.append(lst)\n",
        "            temp_matrices.append(sub_bytes_step)\n",
        "        matrices = temp_matrices\n",
        "        temp_matrices = []\n",
        "\n",
        "# Reversing the first add sub key\n",
        "    round_key = extract_key_for_round(expanded_key, 0)\n",
        "    for matrix in matrices:\n",
        "        temp_matrices.append(add_sub_key(matrix, round_key))\n",
        "    matrices = temp_matrices\n",
        "\n",
        "# matrices back to bytes\n",
        "    int_stream = []\n",
        "    for matrix in matrices:\n",
        "        for column in range(4):\n",
        "            for row in range(4):\n",
        "                int_stream.append(matrix[row][column])\n",
        "    return bytes(int_stream)"
      ],
      "metadata": {
        "id": "NpzXrNSU2MUJ"
      },
      "execution_count": 98,
      "outputs": []
    },
    {
      "cell_type": "markdown",
      "source": [
        "#Test"
      ],
      "metadata": {
        "id": "ZTtFMEjUvz0U"
      }
    },
    {
      "cell_type": "markdown",
      "source": [
        "Let's test this algorithm.\\\n",
        "First, we encode the message 'We love LA so much' using the key b'5ay2hkj02dfd83qu'.\\\n",
        "Then we decode the encoded message using the same key. \\\n",
        "As a result, we should get our original message\n",
        "\n"
      ],
      "metadata": {
        "id": "yNpVjBuNTtFu"
      }
    },
    {
      "cell_type": "code",
      "source": [
        "data =  b'We love LA so much'\n",
        "key = b'5ay2hkj02dfd83qu'\n",
        "encoded_data = encryption(key, data)\n",
        "\n",
        "print(\"Data:\", data, \"\\n\\nEncoded data:\", encoded_data)\n",
        "\n",
        "decoded_data = decryption(key, encoded_data)\n",
        "\n",
        "print(\"\\nData:\", encoded_data, \"\\n\\nDecoded data:\", decoded_data[:-(16 - len(data) % 16)])"
      ],
      "metadata": {
        "colab": {
          "base_uri": "https://localhost:8080/"
        },
        "id": "Isl_-gRFQgoR",
        "outputId": "5332799c-c239-4d2b-cc63-33dce3059f24"
      },
      "execution_count": 84,
      "outputs": [
        {
          "output_type": "stream",
          "name": "stdout",
          "text": [
            "Data: b'We love LA so much' \n",
            "\n",
            "Encoded data: b'\\xd4\\x19\\xc9\\x08\\x1f\\x92\\x1a\\x8b\\x93\\x144)\\x1f\\x02\\xfd\\xae/\\xdc\\xd8\"{y4c\\x8b\\xdap\\xf0Su\\xb8\\t'\n",
            "\n",
            "Data: b'\\xd4\\x19\\xc9\\x08\\x1f\\x92\\x1a\\x8b\\x93\\x144)\\x1f\\x02\\xfd\\xae/\\xdc\\xd8\"{y4c\\x8b\\xdap\\xf0Su\\xb8\\t' \n",
            "\n",
            "Decoded data: b'We love LA so much'\n"
          ]
        }
      ]
    }
  ]
}